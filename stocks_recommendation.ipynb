{
 "cells": [
  {
   "metadata": {
    "ExecuteTime": {
     "end_time": "2024-11-26T10:11:42.626601Z",
     "start_time": "2024-11-26T10:11:42.423792Z"
    }
   },
   "cell_type": "code",
   "source": [
    "import pandas as pd\n",
    "import csv"
   ],
   "id": "ebd1abba10171436",
   "outputs": [],
   "execution_count": 2
  },
  {
   "metadata": {
    "ExecuteTime": {
     "end_time": "2024-11-26T13:12:39.795416Z",
     "start_time": "2024-11-26T13:12:39.772306Z"
    }
   },
   "cell_type": "code",
   "source": [
    "database = pd.read_csv(\"data/stocks.csv\")\n",
    "df = database[(database[\"FoundationYear\"] > 2000)]\n",
    "df.groupby([\"Industry\"]).max()"
   ],
   "id": "d24bb8ddeb4d28c",
   "outputs": [
    {
     "data": {
      "text/plain": [
       "                ID  Performance  FoundationYear  Environment  Social  \\\n",
       "Industry                                                               \n",
       "agriculture    YYU        29.76            2017           10      10   \n",
       "clothing       ZAW        37.40            2015            7       4   \n",
       "construction   XZA        45.73            2016            9       9   \n",
       "electronics    RKA        40.53            2018           10      10   \n",
       "energy         PND       -17.32            2007            8       5   \n",
       "entertainment  WUD        39.87            2020           10      10   \n",
       "mining         UNI        10.72            2019           10      10   \n",
       "\n",
       "               Governance  \n",
       "Industry                   \n",
       "agriculture            10  \n",
       "clothing               10  \n",
       "construction            9  \n",
       "electronics            10  \n",
       "energy                  8  \n",
       "entertainment           9  \n",
       "mining                 10  "
      ],
      "text/html": [
       "<div>\n",
       "<style scoped>\n",
       "    .dataframe tbody tr th:only-of-type {\n",
       "        vertical-align: middle;\n",
       "    }\n",
       "\n",
       "    .dataframe tbody tr th {\n",
       "        vertical-align: top;\n",
       "    }\n",
       "\n",
       "    .dataframe thead th {\n",
       "        text-align: right;\n",
       "    }\n",
       "</style>\n",
       "<table border=\"1\" class=\"dataframe\">\n",
       "  <thead>\n",
       "    <tr style=\"text-align: right;\">\n",
       "      <th></th>\n",
       "      <th>ID</th>\n",
       "      <th>Performance</th>\n",
       "      <th>FoundationYear</th>\n",
       "      <th>Environment</th>\n",
       "      <th>Social</th>\n",
       "      <th>Governance</th>\n",
       "    </tr>\n",
       "    <tr>\n",
       "      <th>Industry</th>\n",
       "      <th></th>\n",
       "      <th></th>\n",
       "      <th></th>\n",
       "      <th></th>\n",
       "      <th></th>\n",
       "      <th></th>\n",
       "    </tr>\n",
       "  </thead>\n",
       "  <tbody>\n",
       "    <tr>\n",
       "      <th>agriculture</th>\n",
       "      <td>YYU</td>\n",
       "      <td>29.76</td>\n",
       "      <td>2017</td>\n",
       "      <td>10</td>\n",
       "      <td>10</td>\n",
       "      <td>10</td>\n",
       "    </tr>\n",
       "    <tr>\n",
       "      <th>clothing</th>\n",
       "      <td>ZAW</td>\n",
       "      <td>37.40</td>\n",
       "      <td>2015</td>\n",
       "      <td>7</td>\n",
       "      <td>4</td>\n",
       "      <td>10</td>\n",
       "    </tr>\n",
       "    <tr>\n",
       "      <th>construction</th>\n",
       "      <td>XZA</td>\n",
       "      <td>45.73</td>\n",
       "      <td>2016</td>\n",
       "      <td>9</td>\n",
       "      <td>9</td>\n",
       "      <td>9</td>\n",
       "    </tr>\n",
       "    <tr>\n",
       "      <th>electronics</th>\n",
       "      <td>RKA</td>\n",
       "      <td>40.53</td>\n",
       "      <td>2018</td>\n",
       "      <td>10</td>\n",
       "      <td>10</td>\n",
       "      <td>10</td>\n",
       "    </tr>\n",
       "    <tr>\n",
       "      <th>energy</th>\n",
       "      <td>PND</td>\n",
       "      <td>-17.32</td>\n",
       "      <td>2007</td>\n",
       "      <td>8</td>\n",
       "      <td>5</td>\n",
       "      <td>8</td>\n",
       "    </tr>\n",
       "    <tr>\n",
       "      <th>entertainment</th>\n",
       "      <td>WUD</td>\n",
       "      <td>39.87</td>\n",
       "      <td>2020</td>\n",
       "      <td>10</td>\n",
       "      <td>10</td>\n",
       "      <td>9</td>\n",
       "    </tr>\n",
       "    <tr>\n",
       "      <th>mining</th>\n",
       "      <td>UNI</td>\n",
       "      <td>10.72</td>\n",
       "      <td>2019</td>\n",
       "      <td>10</td>\n",
       "      <td>10</td>\n",
       "      <td>10</td>\n",
       "    </tr>\n",
       "  </tbody>\n",
       "</table>\n",
       "</div>"
      ]
     },
     "execution_count": 34,
     "metadata": {},
     "output_type": "execute_result"
    }
   ],
   "execution_count": 34
  },
  {
   "metadata": {
    "ExecuteTime": {
     "end_time": "2024-11-26T11:11:43.696973Z",
     "start_time": "2024-11-26T11:11:43.687215Z"
    }
   },
   "cell_type": "code",
   "source": "",
   "id": "e1f3d221736b1e27",
   "outputs": [],
   "execution_count": null
  },
  {
   "metadata": {},
   "cell_type": "code",
   "outputs": [],
   "execution_count": null,
   "source": "",
   "id": "1b2e1a03370f3401"
  },
  {
   "metadata": {
    "ExecuteTime": {
     "end_time": "2024-11-26T11:34:51.134844Z",
     "start_time": "2024-11-26T11:34:51.117518Z"
    }
   },
   "cell_type": "code",
   "source": [
    "# Define the percentile threshold (e.g., top 20%)\n",
    "# Group by 'Industry' and find the stock(s) with the maximum performance in each industry\n",
    "top_performers = df[df[\"Industry\"] == 'agriculture'].sort_values(by=[\"Performance\"]).head(3)\n",
    "\n",
    "# Sort the recommendations by performanc\n",
    "\n",
    "# Display the recommended stocks\n",
    "print(top_performers)\n"
   ],
   "id": "5e62086ad4cc24ec",
   "outputs": [
    {
     "name": "stdout",
     "output_type": "stream",
     "text": [
      "      ID  Performance     Industry  FoundationYear  Environment  Social  \\\n",
      "92   NLT       -38.40  agriculture            2010            6      10   \n",
      "274  DUL       -17.53  agriculture            2006            2       3   \n",
      "492  AJQ        -8.19  agriculture            2013           10       4   \n",
      "\n",
      "     Governance  \n",
      "92           10  \n",
      "274           7  \n",
      "492           5  \n"
     ]
    }
   ],
   "execution_count": 33
  }
 ],
 "metadata": {
  "kernelspec": {
   "display_name": "Python 3",
   "language": "python",
   "name": "python3"
  },
  "language_info": {
   "codemirror_mode": {
    "name": "ipython",
    "version": 2
   },
   "file_extension": ".py",
   "mimetype": "text/x-python",
   "name": "python",
   "nbconvert_exporter": "python",
   "pygments_lexer": "ipython2",
   "version": "2.7.6"
  }
 },
 "nbformat": 4,
 "nbformat_minor": 5
}
