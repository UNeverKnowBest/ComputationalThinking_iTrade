{
 "cells": [
  {
   "metadata": {
    "ExecuteTime": {
     "end_time": "2024-11-26T10:11:42.626601Z",
     "start_time": "2024-11-26T10:11:42.423792Z"
    }
   },
   "cell_type": "code",
   "source": [
    "import pandas as pd\n",
    "import csv"
   ],
   "id": "ebd1abba10171436",
   "outputs": [],
   "execution_count": 2
  },
  {
   "metadata": {
    "ExecuteTime": {
     "end_time": "2024-11-26T11:11:41.732949Z",
     "start_time": "2024-11-26T11:11:41.716453Z"
    }
   },
   "cell_type": "code",
   "source": [
    "database = pd.read_csv(\"data/stocks.csv\")\n",
    "df = database[(database[\"FoundationYear\"] > 2000)]\n",
    "print(df)"
   ],
   "id": "d24bb8ddeb4d28c",
   "outputs": [
    {
     "name": "stdout",
     "output_type": "stream",
     "text": [
      "      ID  Performance       Industry  FoundationYear  Environment  Social  \\\n",
      "1    RKA        40.53    electronics            2008            5       6   \n",
      "5    HBG        12.82    agriculture            2017            3       8   \n",
      "23   ZAW        37.40       clothing            2015            7       1   \n",
      "24   XZA        39.23   construction            2009            4       9   \n",
      "26   UNI       -36.65         mining            2008           10       1   \n",
      "46   AZS        32.94       clothing            2002            3       2   \n",
      "57   FTY        10.46    electronics            2018            9       8   \n",
      "61   DWA        23.59    electronics            2011            5       4   \n",
      "68   MPK        24.19  entertainment            2007            2       2   \n",
      "86   SQZ         0.96         mining            2002            1       2   \n",
      "91   HBQ       -40.88  entertainment            2018            1       2   \n",
      "92   NLT       -38.40    agriculture            2010            6      10   \n",
      "111  MSJ        34.24  entertainment            2006            4       3   \n",
      "132  JDB        -0.01       clothing            2009            2       4   \n",
      "152  NAD         4.46  entertainment            2020            4       2   \n",
      "153  FGG        39.87  entertainment            2019            8       5   \n",
      "189  WUD        37.70  entertainment            2005            5       4   \n",
      "229  NXF         3.59    electronics            2014           10       1   \n",
      "232  BKO        -0.24    agriculture            2017            2      10   \n",
      "247  LDH         5.51  entertainment            2012            2      10   \n",
      "261  QAL       -22.74    electronics            2011            1      10   \n",
      "274  DUL       -17.53    agriculture            2006            2       3   \n",
      "306  OQQ        19.33    electronics            2010            9      10   \n",
      "339  YYU         8.81    agriculture            2001            8       7   \n",
      "340  KGY        10.72         mining            2018            4      10   \n",
      "356  GNI       -17.24    electronics            2001            7       3   \n",
      "368  LEJ        45.73   construction            2011            2       4   \n",
      "369  LUC       -16.77   construction            2016            9       2   \n",
      "412  YKP        32.51       clothing            2006            6       4   \n",
      "416  VAH        22.33   construction            2007            2       9   \n",
      "450  PND       -17.32         energy            2007            8       4   \n",
      "459  HDA         8.91  entertainment            2016           10      10   \n",
      "467  MYG       -48.19         energy            2003            8       5   \n",
      "468  QUF        -6.01         mining            2019            4       9   \n",
      "492  AJQ        -8.19    agriculture            2013           10       4   \n",
      "497  LUN        29.76    agriculture            2013            1       5   \n",
      "\n",
      "     Governance  \n",
      "1             1  \n",
      "5             5  \n",
      "23            1  \n",
      "24            7  \n",
      "26            7  \n",
      "46           10  \n",
      "57           10  \n",
      "61            4  \n",
      "68            6  \n",
      "86            4  \n",
      "91            9  \n",
      "92           10  \n",
      "111           5  \n",
      "132           4  \n",
      "152           7  \n",
      "153           7  \n",
      "189           4  \n",
      "229           2  \n",
      "232           3  \n",
      "247           4  \n",
      "261           3  \n",
      "274           7  \n",
      "306           8  \n",
      "339           7  \n",
      "340           5  \n",
      "356          10  \n",
      "368           9  \n",
      "369           6  \n",
      "412           3  \n",
      "416           2  \n",
      "450           4  \n",
      "459           9  \n",
      "467           8  \n",
      "468          10  \n",
      "492           5  \n",
      "497          10  \n"
     ]
    }
   ],
   "execution_count": 20
  },
  {
   "metadata": {
    "ExecuteTime": {
     "end_time": "2024-11-26T11:11:43.696973Z",
     "start_time": "2024-11-26T11:11:43.687215Z"
    }
   },
   "cell_type": "code",
   "source": "",
   "id": "e1f3d221736b1e27",
   "outputs": [],
   "execution_count": null
  },
  {
   "metadata": {},
   "cell_type": "code",
   "outputs": [],
   "execution_count": null,
   "source": "",
   "id": "1b2e1a03370f3401"
  },
  {
   "metadata": {
    "ExecuteTime": {
     "end_time": "2024-11-26T11:34:51.134844Z",
     "start_time": "2024-11-26T11:34:51.117518Z"
    }
   },
   "cell_type": "code",
   "source": [
    "# Define the percentile threshold (e.g., top 20%)\n",
    "# Group by 'Industry' and find the stock(s) with the maximum performance in each industry\n",
    "top_performers = df[df[\"Industry\"] == 'agriculture'].sort_values(by=[\"Performance\"]).head(3)\n",
    "\n",
    "# Sort the recommendations by performanc\n",
    "\n",
    "# Display the recommended stocks\n",
    "print(top_performers)\n"
   ],
   "id": "5e62086ad4cc24ec",
   "outputs": [
    {
     "name": "stdout",
     "output_type": "stream",
     "text": [
      "      ID  Performance     Industry  FoundationYear  Environment  Social  \\\n",
      "92   NLT       -38.40  agriculture            2010            6      10   \n",
      "274  DUL       -17.53  agriculture            2006            2       3   \n",
      "492  AJQ        -8.19  agriculture            2013           10       4   \n",
      "\n",
      "     Governance  \n",
      "92           10  \n",
      "274           7  \n",
      "492           5  \n"
     ]
    }
   ],
   "execution_count": 33
  }
 ],
 "metadata": {
  "kernelspec": {
   "display_name": "Python 3",
   "language": "python",
   "name": "python3"
  },
  "language_info": {
   "codemirror_mode": {
    "name": "ipython",
    "version": 2
   },
   "file_extension": ".py",
   "mimetype": "text/x-python",
   "name": "python",
   "nbconvert_exporter": "python",
   "pygments_lexer": "ipython2",
   "version": "2.7.6"
  }
 },
 "nbformat": 4,
 "nbformat_minor": 5
}
